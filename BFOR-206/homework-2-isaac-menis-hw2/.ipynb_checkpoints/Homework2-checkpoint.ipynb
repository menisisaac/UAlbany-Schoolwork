{
 "cells": [
  {
   "cell_type": "markdown",
   "id": "6a3d7d13",
   "metadata": {},
   "source": [
    "# Homework 2"
   ]
  },
  {
   "cell_type": "markdown",
   "id": "1f9ccd50",
   "metadata": {},
   "source": [
    "## Library and data imports"
   ]
  },
  {
   "cell_type": "code",
   "execution_count": 1,
   "id": "d1733fcd",
   "metadata": {},
   "outputs": [
    {
     "name": "stdout",
     "output_type": "stream",
     "text": [
      "None\n"
     ]
    }
   ],
   "source": [
    "import numpy as np\n",
    "import pandas as pd\n",
    "import re\n",
    "import text_processing\n",
    "aiml_data = pd.read_csv('reddit_database.csv')\n",
    "import statistics\n",
    "from statistics import mode"
   ]
  },
  {
   "cell_type": "markdown",
   "id": "3b75dd6b",
   "metadata": {},
   "source": [
    "## Data corrections"
   ]
  },
  {
   "cell_type": "code",
   "execution_count": 2,
   "id": "4e005592",
   "metadata": {},
   "outputs": [],
   "source": [
    "aiml_data['author_created_date'] = pd.to_datetime(aiml_data['author_created_utc'], unit = 's')\n",
    "aiml_data['created_date'] = pd.to_datetime(aiml_data['created_date'])"
   ]
  },
  {
   "cell_type": "markdown",
   "id": "86f6c0b3",
   "metadata": {},
   "source": [
    "## Q1.1"
   ]
  },
  {
   "cell_type": "code",
   "execution_count": 3,
   "id": "9fad32c4",
   "metadata": {},
   "outputs": [
    {
     "name": "stdout",
     "output_type": "stream",
     "text": [
      "MachineLearning         122583\n",
      "datascience              63237\n",
      "statistics               62334\n",
      "learnmachinelearning     42655\n",
      "computerscience          38907\n",
      "Name: subreddit, dtype: int64\n"
     ]
    }
   ],
   "source": [
    "print(aiml_data['subreddit'].value_counts().head(5))"
   ]
  },
  {
   "cell_type": "markdown",
   "id": "d9b45c04",
   "metadata": {},
   "source": [
    "## Q1.2"
   ]
  },
  {
   "cell_type": "code",
   "execution_count": 4,
   "id": "af0a010b",
   "metadata": {},
   "outputs": [
    {
     "name": "stdout",
     "output_type": "stream",
     "text": [
      "[deleted]         24663\n",
      "ai_jobs            6245\n",
      "aijobs-com         3662\n",
      "hadooparticles     3068\n",
      "Yuqing7            2192\n",
      "Name: author, dtype: int64\n"
     ]
    }
   ],
   "source": [
    "print(aiml_data['author'].value_counts().head(5))"
   ]
  },
  {
   "cell_type": "markdown",
   "id": "c3cb319e",
   "metadata": {},
   "source": [
    "## Q1.3"
   ]
  },
  {
   "cell_type": "code",
   "execution_count": 5,
   "id": "02cfb8da",
   "metadata": {},
   "outputs": [
    {
     "name": "stdout",
     "output_type": "stream",
     "text": [
      "subreddit\n",
      "MachineLearning    46920\n",
      "statistics         32982\n",
      "datascience        31436\n",
      "computerscience    26200\n",
      "AskStatistics      21692\n",
      "Name: author, dtype: int64\n"
     ]
    }
   ],
   "source": [
    "print(aiml_data.groupby('subreddit')['author'].nunique().sort_values(ascending=False).head(5))"
   ]
  },
  {
   "cell_type": "markdown",
   "id": "7eeab295",
   "metadata": {},
   "source": [
    "## Q1.4"
   ]
  },
  {
   "cell_type": "code",
   "execution_count": 6,
   "id": "9ae9bf07",
   "metadata": {},
   "outputs": [
    {
     "name": "stdout",
     "output_type": "stream",
     "text": [
      "subreddit\n",
      "AskStatistics    87.004432\n",
      "MLQuestions      85.831022\n",
      "rstats           69.663495\n",
      "kaggle           69.245648\n",
      "datasets         67.672850\n",
      "Name: post, dtype: float64\n"
     ]
    }
   ],
   "source": [
    "print((aiml_data.groupby('subreddit')['post'].apply(lambda x : x.notnull().mean()* 100).sort_values(ascending=False).head()))"
   ]
  },
  {
   "cell_type": "markdown",
   "id": "299e4698",
   "metadata": {},
   "source": [
    "## Q2.1"
   ]
  },
  {
   "cell_type": "code",
   "execution_count": 7,
   "id": "e6cd630e",
   "metadata": {},
   "outputs": [
    {
     "data": {
      "text/plain": [
       "[Text(0.5, 0, 'Time'),\n",
       " Text(0, 0.5, 'Number of Posts'),\n",
       " Text(0.5, 1.0, 'AI/ML Posts Per day of the Week')]"
      ]
     },
     "execution_count": 7,
     "metadata": {},
     "output_type": "execute_result"
    },
    {
     "data": {
      "image/png": "[encoded data removed]",
      "text/plain": [
       "<Figure size 432x288 with 1 Axes>"
      ]
     },
     "metadata": {
      "needs_background": "light"
     },
     "output_type": "display_data"
    }
   ],
   "source": [
    "aiml_data['date'] = aiml_data['created_date'].dt.date\n",
    "aiml_data['date'].value_counts().plot().set(xlabel='Time', ylabel='Number of Posts', title='AI/ML Posts Over Time')"
   ]
  },
  {
   "cell_type": "markdown",
   "id": "b0a269fe",
   "metadata": {},
   "source": [
    "## Q2.2"
   ]
  },
  {
   "cell_type": "code",
   "execution_count": 8,
   "id": "2c3bd1fe",
   "metadata": {
    "scrolled": true
   },
   "outputs": [
    {
     "data": {
      "text/plain": [
       "[Text(0.5, 0, 'Points'),\n",
       " Text(0, 0.5, 'Percentage of Posts in Point Range'),\n",
       " Text(0.5, 1.0, 'AI/ML Points Distribution')]"
      ]
     },
     "execution_count": 8,
     "metadata": {},
     "output_type": "execute_result"
    },
    {
     "data": {
      "image/png": "[encoded data removed]",
      "text/plain": [
       "<Figure size 432x288 with 1 Axes>"
      ]
     },
     "metadata": {
      "needs_background": "light"
     },
     "output_type": "display_data"
    }
   ],
   "source": [
    "aiml_data['score'].hist(range=[0, 50]).set(xlabel='Points', ylabel='Percentage of Posts in Point Range', title='AI/ML Points Distribution')"
   ]
  },
  {
   "cell_type": "markdown",
   "id": "af387d12",
   "metadata": {},
   "source": [
    "## Q2.3"
   ]
  },
  {
   "cell_type": "code",
   "execution_count": 9,
   "id": "7c419e35",
   "metadata": {},
   "outputs": [
    {
     "data": {
      "text/plain": [
       "[Text(0.5, 0, 'Day Of The Week'),\n",
       " Text(0, 0.5, 'Total Number of Posts'),\n",
       " Text(0.5, 1.0, 'AI/ML Posts Per day of the Week')]"
      ]
     },
     "execution_count": 9,
     "metadata": {},
     "output_type": "execute_result"
    },
    {
     "data": {
      "image/png": "[encoded data removed]",
      "text/plain": [
       "<Figure size 432x288 with 1 Axes>"
      ]
     },
     "metadata": {
      "needs_background": "light"
     },
     "output_type": "display_data"
    }
   ],
   "source": [
    "aiml_data['dow'] = aiml_data['created_date'].dt.day_name()\n",
    "aiml_data['dow'] = pd.Categorical(aiml_data['dow'], categories= ['Monday','Tuesday', 'Wednesday', 'Thursday', 'Friday', 'Saturday', 'Sunday'],  ordered=True)\n",
    "dow_plot = aiml_data.groupby('dow')['created_date'].count().plot(kind='bar')\n",
    "dow_plot.set(xlabel='Day Of The Week', ylabel='Total Number of Posts', title='AI/ML Posts Per day of the Week')\n"
   ]
  },
  {
   "cell_type": "markdown",
   "id": "d206c223",
   "metadata": {},
   "source": [
    "## Q2.4"
   ]
  },
  {
   "cell_type": "code",
   "execution_count": 10,
   "id": "33d9d820",
   "metadata": {},
   "outputs": [
    {
     "data": {
      "text/plain": [
       "[Text(0.5, 0, 'Hour of Day'),\n",
       " Text(0, 0.5, 'Number of Posts'),\n",
       " Text(0.5, 1.0, 'AI/ML Posts Per Hour of Day')]"
      ]
     },
     "execution_count": 10,
     "metadata": {},
     "output_type": "execute_result"
    },
    {
     "data": {
      "image/png": "[encoded data removed]",
      "text/plain": [
       "<Figure size 432x288 with 1 Axes>"
      ]
     },
     "metadata": {
      "needs_background": "light"
     },
     "output_type": "display_data"
    }
   ],
   "source": [
    "aiml_data['hod'] = aiml_data['created_date'].dt.hour\n",
    "hod_plot = aiml_data.groupby('hod')['created_date'].count().plot(kind='bar')\n",
    "hod_plot.set(xlabel='Hour of Day', ylabel='Number of Posts', title='AI/ML Posts Per Hour of Day')"
   ]
  },
  {
   "cell_type": "markdown",
   "id": "d4dbbc2f",
   "metadata": {},
   "source": [
    "## Q3.1"
   ]
  },
  {
   "cell_type": "code",
   "execution_count": 11,
   "id": "581534e9",
   "metadata": {},
   "outputs": [
    {
     "name": "stdout",
     "output_type": "stream",
     "text": [
      "MachineLearning         2386\n",
      "datascience             1401\n",
      "statistics              1343\n",
      "learnmachinelearning    1164\n",
      "computerscience         1021\n",
      "Name: subreddit, dtype: int64\n"
     ]
    }
   ],
   "source": [
    "x = aiml_data.created_date.max().date()\n",
    "thirty = aiml_data[aiml_data['created_date'] >= (pd.to_datetime(x) - pd.Timedelta(days=30))]\n",
    "print(thirty['subreddit'].value_counts().head(5))"
   ]
  },
  {
   "cell_type": "markdown",
   "id": "41f9c45c",
   "metadata": {},
   "source": [
    "## Q3.2"
   ]
  },
  {
   "cell_type": "code",
   "execution_count": 12,
   "id": "37e3ce72",
   "metadata": {},
   "outputs": [
    {
     "name": "stdout",
     "output_type": "stream",
     "text": [
      "There is weak to no correlation\n"
     ]
    }
   ],
   "source": [
    "aiml_data['title_length'] = aiml_data['title'].apply(len)\n",
    "correlation = aiml_data['title_length'].corr(aiml_data['score'])\n",
    "if correlation < 0.7:\n",
    "    print('There is weak to no correlation')\n",
    "else:\n",
    "    print('There is a strong correlation')"
   ]
  },
  {
   "cell_type": "markdown",
   "id": "01adfa82",
   "metadata": {},
   "source": [
    "## Q3.3"
   ]
  },
  {
   "cell_type": "code",
   "execution_count": 13,
   "id": "d5fa3124",
   "metadata": {},
   "outputs": [
    {
     "name": "stdout",
     "output_type": "stream",
     "text": [
      "to          133447\n",
      "a           118002\n",
      "for         103489\n",
      "the         102750\n",
      "in           96667\n",
      "of           88673\n",
      "and          82492\n",
      "data         82203\n",
      "with         55169\n",
      "learning     52059\n",
      "is           51314\n",
      "how          50923\n",
      "i            47298\n",
      "on           45113\n",
      "machine      35464\n",
      "what         34946\n",
      "-            31093\n",
      "from         25752\n",
      "you          25298\n",
      "ai           23945\n",
      "dtype: int64\n"
     ]
    }
   ],
   "source": [
    "print(aiml_data['title'].str.lower().str.split(expand=True).stack().value_counts().head(20))"
   ]
  },
  {
   "cell_type": "markdown",
   "id": "6040471c",
   "metadata": {},
   "source": [
    "## Q3.4"
   ]
  },
  {
   "cell_type": "code",
   "execution_count": 29,
   "id": "f7603016",
   "metadata": {},
   "outputs": [
    {
     "name": "stdout",
     "output_type": "stream",
     "text": [
      "https://www.reddit.com/r/datascience/wiki/frequently-asked-questions)\n",
      "https://affportal.jaagnet.com/JAAGNet-Groups/DaisyMS-AI-Team-Group/blog/apple-details-ai-to-help-voice-assistants-recognize-hotwords-and-](https://affportal.jaagnet.com/JAAGNet-Groups/DaisyMS-AI-Team-Group/blog/apple-details-ai-to-help-voice-assistants-recognize-hotwords-and-)\n",
      "https://stats.stackexchange.com/)\n",
      "https://www.reddit.com/4qyjiq)\n",
      "https://affportal.jaagnet.com/JAAGNet-Groups/DaisyMS-AI-Team-Group/blog/apple-details-ai-to-help-voice-assistants-recognize-hotwords-and-](https://affportal.jaagnet.com/JAAGNet-Groups/DaisyMS-AI-Team-Group/blog/apple-details-ai-to-help-voice-assistants-recognize-hotwords-and-)\n",
      "https://fast.ai)\n",
      "https://www.reddit.com/r/MachineLearning/comments/4qyjiq/machine_learning_wayr_what_are_you_reading_week_1/)\n",
      "https://github.com/sepandhaghighi/pycm](https://github.com/sepandhaghighi/pycm)\n",
      "https://github.com/rodrigobressan/face2data**](https://github.com/rodrigobressan/face2data)\n",
      "https://deeplearning.ai)\n"
     ]
    }
   ],
   "source": [
    "urls_list = aiml_data['post'].apply(text_processing.find_urls)\n",
    "updated_list = []\n",
    "for index, value in urls_list.items():\n",
    "    if value != []:\n",
    "        updated_list.append(value[0])\n",
    "for i in range(10):\n",
    "    mode = text_processing.most_frequent(updated_list)\n",
    "    print(mode)\n",
    "    for k in updated_list:\n",
    "        if k == mode:\n",
    "            updated_list.remove(k)    \n"
   ]
  },
  {
   "cell_type": "code",
   "execution_count": null,
   "id": "6c56079f",
   "metadata": {},
   "outputs": [],
   "source": []
  }
 ],
 "metadata": {
  "kernelspec": {
   "display_name": "Python 3 (ipykernel)",
   "language": "python",
   "name": "python3"
  },
  "language_info": {
   "codemirror_mode": {
    "name": "ipython",
    "version": 3
   },
   "file_extension": ".py",
   "mimetype": "text/x-python",
   "name": "python",
   "nbconvert_exporter": "python",
   "pygments_lexer": "ipython3",
   "version": "3.9.7"
  }
 },
 "nbformat": 4,
 "nbformat_minor": 5
}
