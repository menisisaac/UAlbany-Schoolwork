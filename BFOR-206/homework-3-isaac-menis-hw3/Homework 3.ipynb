{
 "cells": [
  {
   "cell_type": "markdown",
   "id": "8bed9095",
   "metadata": {},
   "source": [
    "# Homework 3 Analysis"
   ]
  },
  {
   "cell_type": "markdown",
   "id": "52c4c47b",
   "metadata": {},
   "source": [
    "## Imports "
   ]
  },
  {
   "cell_type": "code",
   "execution_count": 1,
   "id": "c90a85ac",
   "metadata": {},
   "outputs": [],
   "source": [
    "import pandas as pd\n",
    "import nltk\n",
    "import irc_parse\n",
    "from nltk.corpus import words\n",
    "from collections import Counter\n",
    "import re\n",
    "import string\n"
   ]
  },
  {
   "cell_type": "markdown",
   "id": "32562f9a",
   "metadata": {},
   "source": [
    "## Read in clean dataset"
   ]
  },
  {
   "cell_type": "code",
   "execution_count": 2,
   "id": "d0ec81e2",
   "metadata": {},
   "outputs": [],
   "source": [
    "hackers = pd.read_csv('hackers_clean.csv')"
   ]
  },
  {
   "cell_type": "markdown",
   "id": "e5b2ccf5",
   "metadata": {},
   "source": [
    "## 1.1"
   ]
  },
  {
   "cell_type": "code",
   "execution_count": 3,
   "id": "8533d49a",
   "metadata": {},
   "outputs": [
    {
     "name": "stdout",
     "output_type": "stream",
     "text": [
      "guapo          11972\n",
      "sTrikEforCe     5305\n",
      "BOFH            4449\n",
      "lazarus         3923\n",
      "DeTH            3544\n",
      "Name: username, dtype: int64\n"
     ]
    }
   ],
   "source": [
    "hackers.loc[hackers['username']=='evilbot', 'username'] = None\n",
    "print(hackers['username'].value_counts().head(5))"
   ]
  },
  {
   "cell_type": "markdown",
   "id": "51f2e6e1",
   "metadata": {},
   "source": [
    "## 1.2"
   ]
  },
  {
   "cell_type": "code",
   "execution_count": 4,
   "id": "1bf7d24e",
   "metadata": {},
   "outputs": [
    {
     "name": "stdout",
     "output_type": "stream",
     "text": [
      "Hex        1949\n",
      "twelve     1759\n",
      "xAcex      1683\n",
      "native     1682\n",
      "target_    1593\n",
      "Name: leave_join_usernames, dtype: int64\n"
     ]
    }
   ],
   "source": [
    "print(hackers.loc[hackers['join_or_quit'] == 'join', 'leave_join_usernames'].value_counts().head(5))"
   ]
  },
  {
   "cell_type": "markdown",
   "id": "4234cc3d",
   "metadata": {},
   "source": [
    "## 1.3"
   ]
  },
  {
   "cell_type": "code",
   "execution_count": null,
   "id": "6c15a1a9",
   "metadata": {},
   "outputs": [],
   "source": []
  },
  {
   "cell_type": "markdown",
   "id": "54be4e09",
   "metadata": {},
   "source": [
    "## 1.4 - Server Admins"
   ]
  },
  {
   "cell_type": "code",
   "execution_count": 5,
   "id": "345f1709",
   "metadata": {},
   "outputs": [
    {
     "name": "stdout",
     "output_type": "stream",
     "text": [
      "{nan, 'MrGrinch', 'satan', '[', 'BOOOFH', 'phartusion', 'phusion', 'guapo', 'BOFH'}\n"
     ]
    }
   ],
   "source": [
    "admin = hackers.loc[hackers['prefix']=='@']['username']\n",
    "admin.unique()\n",
    "\n",
    "print(set(admin))"
   ]
  },
  {
   "cell_type": "markdown",
   "id": "6d7a8c29",
   "metadata": {},
   "source": [
    "## 2.1"
   ]
  },
  {
   "cell_type": "code",
   "execution_count": 6,
   "id": "efcc2112",
   "metadata": {},
   "outputs": [
    {
     "name": "stdout",
     "output_type": "stream",
     "text": [
      "229604\n"
     ]
    }
   ],
   "source": [
    "print(len(hackers.loc[hackers['is_message_row']==True, 'original_data']))"
   ]
  },
  {
   "cell_type": "markdown",
   "id": "1dc139d3",
   "metadata": {},
   "source": [
    "## 2.2"
   ]
  },
  {
   "cell_type": "code",
   "execution_count": 9,
   "id": "169db1f1",
   "metadata": {},
   "outputs": [
    {
     "name": "stdout",
     "output_type": "stream",
     "text": [
      "[('a', 40485), ('i', 40377), ('to', 39136), ('the', 36785), ('and', 36191), ('you', 26979), ('it', 22977), ('is', 22707), ('for', 20690), ('of', 20279)]\n"
     ]
    }
   ],
   "source": [
    "all_tokens = [y for x in hackers.loc[hackers['is_message_row']==True, 'chat_word_list'] for y in x]\n",
    "all_tokens = \"\".join(all_tokens)\n",
    "\n",
    "for x in string.punctuation:\n",
    "    all_tokens = all_tokens.replace(x, ' ')\n",
    "    \n",
    "all_tokens = ''.join(all_tokens)\n",
    "all_tokens = all_tokens.split(' ')\n",
    "\n",
    "\n",
    "from collections import Counter\n",
    "\n",
    "token_counts = Counter(all_tokens)\n",
    "token_counts = token_counts.most_common(11)\n",
    "print(token_counts[1:11])"
   ]
  },
  {
   "cell_type": "markdown",
   "id": "074c2cd4",
   "metadata": {},
   "source": [
    "## 2.3"
   ]
  },
  {
   "cell_type": "code",
   "execution_count": 11,
   "id": "edd63c85",
   "metadata": {},
   "outputs": [
    {
     "name": "stdout",
     "output_type": "stream",
     "text": [
      "[('lol', 6098), ('com', 5550), ('tools', 4775), ('windows', 3610), ('im', 3258), ('https', 3126), ('sql', 2861), ('ok', 2777), ('users', 2704), ('unix', 2671)]\n"
     ]
    }
   ],
   "source": [
    "non_english = set(words.words())\n",
    "non_english_tokens = [item for item in all_tokens if item not in non_english]\n",
    "\n",
    "non_english_counts = Counter(non_english_tokens)\n",
    "non_english_counts = non_english_counts.most_common(11)\n",
    "print(non_english_counts[1:11])"
   ]
  },
  {
   "cell_type": "markdown",
   "id": "de5034c4",
   "metadata": {},
   "source": [
    "## 2.4"
   ]
  },
  {
   "cell_type": "code",
   "execution_count": 9,
   "id": "921dd989",
   "metadata": {},
   "outputs": [
    {
     "name": "stdout",
     "output_type": "stream",
     "text": [
      "Distinct Urls: 3198\n"
     ]
    }
   ],
   "source": [
    "full_url_list = hackers.loc[hackers['url']!=None, 'url'].apply(irc_parse.find_urls)\n",
    "all_urls = []\n",
    "for url_list in full_url_list:\n",
    "    for x in url_list:\n",
    "        all_urls.append(x)\n",
    "print('Distinct Urls:', len(set(all_urls)))"
   ]
  },
  {
   "cell_type": "markdown",
   "id": "19cbe319",
   "metadata": {},
   "source": [
    "## 2.5"
   ]
  },
  {
   "cell_type": "code",
   "execution_count": 10,
   "id": "303ed9c6",
   "metadata": {},
   "outputs": [
    {
     "name": "stdout",
     "output_type": "stream",
     "text": [
      "https://newblood.anonops.com/vpn.html']\n",
      "http://www.androirc.com']\n",
      "http://www.mutterirc.com]']\n",
      "https://google.com']\n",
      "http://goo.gl/Bz92ES',\n",
      "http://www.mutterirc.com]']\n",
      "http://www.androirc.com']\n",
      "http://znc.in]']\n",
      "http://www.python.org/download/']\n",
      "http://packetstormsecurity.com/files/92222/Admin-Control-Panel-Finder-2.0.html']\n"
     ]
    }
   ],
   "source": [
    "copy = all_urls.copy()\n",
    "for i in range(10):\n",
    "    mode = irc_parse.most_frequent(copy)\n",
    "    print(mode)\n",
    "    for k in copy:\n",
    "        if k == mode:\n",
    "            copy.remove(k)  "
   ]
  },
  {
   "cell_type": "markdown",
   "id": "b3a23d5b",
   "metadata": {},
   "source": [
    "## 2.6"
   ]
  },
  {
   "cell_type": "code",
   "execution_count": 11,
   "id": "4563c683",
   "metadata": {},
   "outputs": [
    {
     "name": "stdout",
     "output_type": "stream",
     "text": [
      "newblood.anonops.com\n",
      "github.com\n",
      "androirc.com']\n",
      "youtube.com\n",
      "mutterirc.com]']\n",
      "sourceforge.net\n",
      "pastebin.com\n",
      "imgur.com\n",
      "goo.gl\n",
      "ghostbin.com\n"
     ]
    }
   ],
   "source": [
    "domains = []\n",
    "exp = r'^(?:https?:\\/\\/)?(?:[^@\\/\\n]+@)?(?:www\\.)?([^:\\/?\\n]+)'\n",
    "for x in all_urls:\n",
    "    res=re.findall(exp,x)\n",
    "    domains.append(res[0])\n",
    "dark = set(domains)\n",
    "for i in range(10):\n",
    "    mode = irc_parse.most_frequent(domains)\n",
    "    print(mode)\n",
    "    for k in domains:\n",
    "        if k == mode:\n",
    "            domains.remove(k) "
   ]
  },
  {
   "cell_type": "markdown",
   "id": "0dc00eae",
   "metadata": {},
   "source": [
    "## 2.7"
   ]
  },
  {
   "cell_type": "code",
   "execution_count": 12,
   "id": "3dae6c6d",
   "metadata": {},
   "outputs": [
    {
     "name": "stdout",
     "output_type": "stream",
     "text": [
      "['lelantoss7bcnwbv.onion', 'qdspecqnh2gi4ydo.onion', 'digigangxiehugqk.onion', '2ogmrlfzdthnwkez.onion', 'kpynyvym6xqi7wz2.onion', 'pnxauh22krzb5xso.onion', 'zqktlwi4fecvo6ri.onion', 'marianavr3tjsyn3.onion', 'torbox3uiot6wchz.onion', 'sinbox4ywhkabur3.onion', 'chanceaxm2eaygkx.onion', 'honmnaapxzpk2rg7.onion', '7haz75ietrhjds3j.onion', 'legionhiden4dqh4.onion', 'j5jqawdmpf43236g.onion', 'satan6dll23napb5.onion', 'blkbook3fxhcsn3u.onion', 'unixoxxq4runzrmg.onion']\n"
     ]
    }
   ],
   "source": [
    "dark_web = []\n",
    "for x in dark:\n",
    "    end = (x.split('.'))[-1]\n",
    "    if end == 'onion':\n",
    "        dark_web.append(x)\n",
    "print(dark_web)"
   ]
  },
  {
   "cell_type": "markdown",
   "id": "af01fb31",
   "metadata": {},
   "source": [
    "## 3.1"
   ]
  },
  {
   "cell_type": "code",
   "execution_count": 32,
   "id": "44bd0190",
   "metadata": {},
   "outputs": [
    {
     "data": {
      "text/plain": [
       "20    14901\n",
       "19    14215\n",
       "18    14029\n",
       "23    13682\n",
       "21    13633\n",
       "Name: datetime, dtype: int64"
      ]
     },
     "execution_count": 32,
     "metadata": {},
     "output_type": "execute_result"
    }
   ],
   "source": [
    "hackers['datetime'] = pd.to_datetime(hackers['datetime'])\n",
    "hackers.loc[hackers['is_message_row']==True, 'datetime'].dt.hour.value_counts().head(5)"
   ]
  },
  {
   "cell_type": "markdown",
   "id": "fe7e729e",
   "metadata": {},
   "source": [
    "## 3.2"
   ]
  },
  {
   "cell_type": "code",
   "execution_count": 14,
   "id": "68a249b6",
   "metadata": {
    "scrolled": false
   },
   "outputs": [
    {
     "name": "stdout",
     "output_type": "stream",
     "text": [
      "2016-11-11    2860\n",
      "2018-03-09    2454\n",
      "2016-10-19    2325\n",
      "2016-10-22    2043\n",
      "2016-11-16    2035\n",
      "2016-10-23    1862\n",
      "2016-11-15    1761\n",
      "2016-10-17    1735\n",
      "2016-10-21    1577\n",
      "2017-05-03    1566\n",
      "Name: datetime, dtype: int64\n"
     ]
    }
   ],
   "source": [
    "print(hackers.loc[hackers['is_message_row']==True, 'datetime'].dt.date.value_counts().head(10))"
   ]
  },
  {
   "cell_type": "markdown",
   "id": "bbdf1802",
   "metadata": {},
   "source": [
    "## 3.3"
   ]
  },
  {
   "cell_type": "code",
   "execution_count": 15,
   "id": "d7061fb8",
   "metadata": {},
   "outputs": [
    {
     "name": "stdout",
     "output_type": "stream",
     "text": [
      "Friday       38229\n",
      "Saturday     36491\n",
      "Wednesday    34205\n",
      "Tuesday      31732\n",
      "Thursday     30962\n",
      "Sunday       29318\n",
      "Monday       28667\n",
      "Name: datetime, dtype: int64\n"
     ]
    }
   ],
   "source": [
    "print(hackers.loc[hackers['is_message_row']==True, 'datetime'].dt.day_name().value_counts())"
   ]
  },
  {
   "cell_type": "code",
   "execution_count": null,
   "id": "f4ac8036",
   "metadata": {},
   "outputs": [],
   "source": []
  }
 ],
 "metadata": {
  "kernelspec": {
   "display_name": "Python 3 (ipykernel)",
   "language": "python",
   "name": "python3"
  },
  "language_info": {
   "codemirror_mode": {
    "name": "ipython",
    "version": 3
   },
   "file_extension": ".py",
   "mimetype": "text/x-python",
   "name": "python",
   "nbconvert_exporter": "python",
   "pygments_lexer": "ipython3",
   "version": "3.9.7"
  }
 },
 "nbformat": 4,
 "nbformat_minor": 5
}
