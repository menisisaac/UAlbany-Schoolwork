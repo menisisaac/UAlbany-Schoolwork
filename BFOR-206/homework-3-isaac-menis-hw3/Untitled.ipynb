{
 "cells": [
  {
   "cell_type": "markdown",
   "id": "8bed9095",
   "metadata": {},
   "source": [
    "# Homework 3 Analysis"
   ]
  },
  {
   "cell_type": "markdown",
   "id": "52c4c47b",
   "metadata": {},
   "source": [
    "## Imports "
   ]
  },
  {
   "cell_type": "code",
   "execution_count": 38,
   "id": "c90a85ac",
   "metadata": {},
   "outputs": [],
   "source": [
    "import pandas as pd\n",
    "import nltk\n",
    "import irc_parse\n",
    "from nltk.corpus import words\n",
    "from collections import Counter\n",
    "import re\n"
   ]
  },
  {
   "cell_type": "markdown",
   "id": "32562f9a",
   "metadata": {},
   "source": [
    "## Read in clean dataset"
   ]
  },
  {
   "cell_type": "code",
   "execution_count": 39,
   "id": "d0ec81e2",
   "metadata": {},
   "outputs": [],
   "source": [
    "hackers = pd.read_csv('hackers_clean.csv')"
   ]
  },
  {
   "cell_type": "code",
   "execution_count": null,
   "id": "12befd05",
   "metadata": {},
   "outputs": [],
   "source": []
  },
  {
   "cell_type": "code",
   "execution_count": null,
   "id": "f16ebe31",
   "metadata": {},
   "outputs": [],
   "source": []
  },
  {
   "cell_type": "code",
   "execution_count": null,
   "id": "5ce7fb85",
   "metadata": {},
   "outputs": [],
   "source": []
  },
  {
   "cell_type": "code",
   "execution_count": null,
   "id": "3f96c0a9",
   "metadata": {},
   "outputs": [],
   "source": []
  },
  {
   "cell_type": "markdown",
   "id": "e5b2ccf5",
   "metadata": {},
   "source": [
    "## 1.1"
   ]
  },
  {
   "cell_type": "code",
   "execution_count": 40,
   "id": "8533d49a",
   "metadata": {},
   "outputs": [
    {
     "name": "stdout",
     "output_type": "stream",
     "text": [
      "guapo          11972\n",
      "sTrikEforCe     5305\n",
      "BOFH            4449\n",
      "lazarus         3923\n",
      "DeTH            3544\n",
      "Name: username, dtype: int64\n"
     ]
    }
   ],
   "source": [
    "hackers.loc[hackers['username']=='evilbot', 'username'] = None\n",
    "print(hackers['username'].value_counts().head(5))"
   ]
  },
  {
   "cell_type": "markdown",
   "id": "51f2e6e1",
   "metadata": {},
   "source": [
    "## 1.2"
   ]
  },
  {
   "cell_type": "code",
   "execution_count": 41,
   "id": "1bf7d24e",
   "metadata": {},
   "outputs": [
    {
     "name": "stdout",
     "output_type": "stream",
     "text": [
      "Hex        1949\n",
      "twelve     1759\n",
      "xAcex      1683\n",
      "native     1682\n",
      "target_    1593\n",
      "Name: leave_join_usernames, dtype: int64\n"
     ]
    }
   ],
   "source": [
    "print(hackers.loc[hackers['join_or_quit'] == 'join', 'leave_join_usernames'].value_counts().head(5))"
   ]
  },
  {
   "cell_type": "markdown",
   "id": "4234cc3d",
   "metadata": {},
   "source": [
    "## 1.3"
   ]
  },
  {
   "cell_type": "code",
   "execution_count": null,
   "id": "6c15a1a9",
   "metadata": {},
   "outputs": [],
   "source": []
  },
  {
   "cell_type": "markdown",
   "id": "54be4e09",
   "metadata": {},
   "source": [
    "## 1.4 - Server Admins"
   ]
  },
  {
   "cell_type": "code",
   "execution_count": 42,
   "id": "345f1709",
   "metadata": {},
   "outputs": [
    {
     "name": "stdout",
     "output_type": "stream",
     "text": [
      "{'MrGrinch', nan, 'BOOOFH', 'phusion', 'BOFH', 'satan', 'phartusion', 'guapo', '['}\n"
     ]
    }
   ],
   "source": [
    "admin = hackers.loc[hackers['prefix']=='@']['username']\n",
    "admin.unique()\n",
    "\n",
    "print(set(admin))"
   ]
  },
  {
   "cell_type": "markdown",
   "id": "6d7a8c29",
   "metadata": {},
   "source": [
    "## 2.1"
   ]
  },
  {
   "cell_type": "code",
   "execution_count": 43,
   "id": "efcc2112",
   "metadata": {},
   "outputs": [
    {
     "name": "stdout",
     "output_type": "stream",
     "text": [
      "215975\n"
     ]
    }
   ],
   "source": [
    "print(len(hackers.loc[hackers['has_text']==True, 'original_data']))"
   ]
  },
  {
   "cell_type": "markdown",
   "id": "1dc139d3",
   "metadata": {},
   "source": [
    "## 2.2"
   ]
  },
  {
   "cell_type": "code",
   "execution_count": 44,
   "id": "169db1f1",
   "metadata": {},
   "outputs": [
    {
     "name": "stdout",
     "output_type": "stream",
     "text": [
      "[(\"'\", 3543524), (',', 1589977), (' ', 1553345), ('e', 755164), ('t', 613915), ('o', 601269), ('a', 555068), ('i', 529633), ('n', 501051), ('s', 477132)]\n"
     ]
    }
   ],
   "source": [
    "all_tokens = [y for x in hackers.loc[hackers['is_message_row']==True, 'chat_word_list'] for y in x]\n",
    "\n",
    "from collections import Counter\n",
    "\n",
    "token_counts = Counter(all_tokens)\n",
    "print(token_counts.most_common(10))"
   ]
  },
  {
   "cell_type": "markdown",
   "id": "074c2cd4",
   "metadata": {},
   "source": [
    "## 2.3"
   ]
  },
  {
   "cell_type": "code",
   "execution_count": 45,
   "id": "edd63c85",
   "metadata": {},
   "outputs": [
    {
     "name": "stdout",
     "output_type": "stream",
     "text": [
      "[(\"'\", 3543524), (',', 1589977), (' ', 1553345), (']', 230841), ('[', 230784), ('.', 65560), ('-', 56037), ('\"', 50794), ('?', 27400), (':', 26981), ('/', 26701), ('0', 20614), ('1', 13979), ('2', 10526), (')', 10206), ('3', 9640), ('(', 8040), ('!', 5661), ('`', 5618), ('4', 5576), ('_', 5334), ('8', 5177), ('5', 5135), ('6', 5003), ('â', 4671), ('7', 4370), ('9', 3744), ('#', 3597), ('*', 2849), ('=', 2687), ('^', 2397), ('\\\\', 1988), ('€', 1930), ('–', 1857), ('>', 1780), ('@', 1756), ('ï', 1611), ('&', 1558), ('%', 1493), ('+', 1465), ('<', 1421), (';', 1389), ('¸', 1217), ('‘', 1177), ('ã', 1083), ('ð', 1065), ('|', 912), ('~', 817), ('˜', 795), ('¢', 718)]\n"
     ]
    }
   ],
   "source": [
    "non_english = set(words.words())\n",
    "non_english_tokens = [item for item in all_tokens if item not in non_english]\n",
    "\n",
    "non_english_counts = Counter(non_english_tokens)\n",
    "print(non_english_counts.most_common(50))"
   ]
  },
  {
   "cell_type": "markdown",
   "id": "de5034c4",
   "metadata": {},
   "source": [
    "## 2.4"
   ]
  },
  {
   "cell_type": "code",
   "execution_count": 46,
   "id": "921dd989",
   "metadata": {},
   "outputs": [
    {
     "name": "stdout",
     "output_type": "stream",
     "text": [
      "Distinct Urls: 3198\n"
     ]
    }
   ],
   "source": [
    "full_url_list = hackers.loc[hackers['url']!=None, 'url'].apply(irc_parse.find_urls)\n",
    "all_urls = []\n",
    "for url_list in full_url_list:\n",
    "    for x in url_list:\n",
    "        all_urls.append(x)\n",
    "print('Distinct Urls:', len(set(all_urls)))"
   ]
  },
  {
   "cell_type": "markdown",
   "id": "19cbe319",
   "metadata": {},
   "source": [
    "## 2.5"
   ]
  },
  {
   "cell_type": "code",
   "execution_count": 47,
   "id": "303ed9c6",
   "metadata": {},
   "outputs": [
    {
     "name": "stdout",
     "output_type": "stream",
     "text": [
      "https://newblood.anonops.com/vpn.html']\n",
      "http://www.androirc.com']\n",
      "http://www.mutterirc.com]']\n",
      "https://google.com']\n",
      "http://goo.gl/Bz92ES',\n",
      "http://www.mutterirc.com]']\n",
      "http://www.androirc.com']\n",
      "http://znc.in]']\n",
      "http://www.python.org/download/']\n",
      "http://packetstormsecurity.com/files/92222/Admin-Control-Panel-Finder-2.0.html']\n"
     ]
    }
   ],
   "source": [
    "copy = all_urls.copy()\n",
    "for i in range(10):\n",
    "    mode = irc_parse.most_frequent(copy)\n",
    "    print(mode)\n",
    "    for k in copy:\n",
    "        if k == mode:\n",
    "            copy.remove(k)  "
   ]
  },
  {
   "cell_type": "markdown",
   "id": "b3a23d5b",
   "metadata": {},
   "source": [
    "## 2.6"
   ]
  },
  {
   "cell_type": "code",
   "execution_count": 48,
   "id": "4563c683",
   "metadata": {},
   "outputs": [
    {
     "name": "stdout",
     "output_type": "stream",
     "text": [
      "newblood.anonops.com\n",
      "github.com\n",
      "androirc.com']\n",
      "youtube.com\n",
      "mutterirc.com]']\n",
      "sourceforge.net\n",
      "pastebin.com\n",
      "imgur.com\n",
      "goo.gl\n",
      "ghostbin.com\n"
     ]
    }
   ],
   "source": [
    "domains = []\n",
    "exp = r'^(?:https?:\\/\\/)?(?:[^@\\/\\n]+@)?(?:www\\.)?([^:\\/?\\n]+)'\n",
    "for x in all_urls:\n",
    "    res=re.findall(exp,x)\n",
    "    domains.append(res[0])\n",
    "dark = set(domains)\n",
    "for i in range(10):\n",
    "    mode = irc_parse.most_frequent(domains)\n",
    "    print(mode)\n",
    "    for k in domains:\n",
    "        if k == mode:\n",
    "            domains.remove(k) "
   ]
  },
  {
   "cell_type": "markdown",
   "id": "0dc00eae",
   "metadata": {},
   "source": [
    "## 2.7"
   ]
  },
  {
   "cell_type": "code",
   "execution_count": 49,
   "id": "3dae6c6d",
   "metadata": {},
   "outputs": [
    {
     "name": "stdout",
     "output_type": "stream",
     "text": [
      "['blkbook3fxhcsn3u.onion', 'digigangxiehugqk.onion', 'marianavr3tjsyn3.onion', 'pnxauh22krzb5xso.onion', '2ogmrlfzdthnwkez.onion', 'j5jqawdmpf43236g.onion', 'kpynyvym6xqi7wz2.onion', 'torbox3uiot6wchz.onion', 'honmnaapxzpk2rg7.onion', 'zqktlwi4fecvo6ri.onion', 'qdspecqnh2gi4ydo.onion', 'sinbox4ywhkabur3.onion', 'lelantoss7bcnwbv.onion', '7haz75ietrhjds3j.onion', 'satan6dll23napb5.onion', 'legionhiden4dqh4.onion', 'unixoxxq4runzrmg.onion', 'chanceaxm2eaygkx.onion']\n"
     ]
    }
   ],
   "source": [
    "dark_web = []\n",
    "for x in dark:\n",
    "    end = (x.split('.'))[-1]\n",
    "    if end == 'onion':\n",
    "        dark_web.append(x)\n",
    "print(dark_web)"
   ]
  },
  {
   "cell_type": "markdown",
   "id": "af01fb31",
   "metadata": {},
   "source": [
    "## 3.1"
   ]
  },
  {
   "cell_type": "code",
   "execution_count": 53,
   "id": "44bd0190",
   "metadata": {},
   "outputs": [
    {
     "data": {
      "text/plain": [
       "0    229604\n",
       "Name: datetime, dtype: int64"
      ]
     },
     "execution_count": 53,
     "metadata": {},
     "output_type": "execute_result"
    }
   ],
   "source": [
    "hackers['datetime'] = pd.to_datetime(hackers['datetime'])\n",
    "hackers.loc[hackers['is_message_row']==True, 'datetime'].dt.hour.value_counts()"
   ]
  },
  {
   "cell_type": "markdown",
   "id": "fe7e729e",
   "metadata": {},
   "source": [
    "## 3.2"
   ]
  },
  {
   "cell_type": "code",
   "execution_count": 55,
   "id": "68a249b6",
   "metadata": {
    "scrolled": false
   },
   "outputs": [
    {
     "name": "stdout",
     "output_type": "stream",
     "text": [
      "2016-11-11    2860\n",
      "2018-03-09    2454\n",
      "2016-10-19    2325\n",
      "2016-10-22    2043\n",
      "2016-11-16    2035\n",
      "2016-10-23    1862\n",
      "2016-11-15    1761\n",
      "2016-10-17    1735\n",
      "2016-10-21    1577\n",
      "2017-05-03    1566\n",
      "Name: datetime, dtype: int64\n"
     ]
    }
   ],
   "source": [
    "print(hackers.loc[hackers['is_message_row']==True, 'datetime'].dt.date.value_counts().head(10))"
   ]
  },
  {
   "cell_type": "markdown",
   "id": "bbdf1802",
   "metadata": {},
   "source": [
    "## 3.3"
   ]
  },
  {
   "cell_type": "code",
   "execution_count": 57,
   "id": "d7061fb8",
   "metadata": {},
   "outputs": [
    {
     "name": "stdout",
     "output_type": "stream",
     "text": [
      "Friday       38229\n",
      "Saturday     36491\n",
      "Wednesday    34205\n",
      "Tuesday      31732\n",
      "Thursday     30962\n",
      "Sunday       29318\n",
      "Monday       28667\n",
      "Name: datetime, dtype: int64\n"
     ]
    }
   ],
   "source": [
    "print(hackers.loc[hackers['is_message_row']==True, 'datetime'].dt.day_name().value_counts())"
   ]
  },
  {
   "cell_type": "code",
   "execution_count": null,
   "id": "f4ac8036",
   "metadata": {},
   "outputs": [],
   "source": []
  }
 ],
 "metadata": {
  "kernelspec": {
   "display_name": "Python 3 (ipykernel)",
   "language": "python",
   "name": "python3"
  },
  "language_info": {
   "codemirror_mode": {
    "name": "ipython",
    "version": 3
   },
   "file_extension": ".py",
   "mimetype": "text/x-python",
   "name": "python",
   "nbconvert_exporter": "python",
   "pygments_lexer": "ipython3",
   "version": "3.9.7"
  }
 },
 "nbformat": 4,
 "nbformat_minor": 5
}
